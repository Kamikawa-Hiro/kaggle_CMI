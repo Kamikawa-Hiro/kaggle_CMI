{
 "cells": [
  {
   "cell_type": "markdown",
   "id": "91ac365c",
   "metadata": {
    "papermill": {
     "duration": 0.00272,
     "end_time": "2025-06-07T23:01:07.583341",
     "exception": false,
     "start_time": "2025-06-07T23:01:07.580621",
     "status": "completed"
    },
    "tags": []
   },
   "source": [
    "<h2>This is the code for training models. The running time exceeded 15 minutes, so I separated the training and inference. \n",
    "The inference code is here</h2>\n",
    "<a href='https://www.kaggle.com/code/jiaoyouzhang/cmi-2025-only-lightgbm'>\n",
    "  https://www.kaggle.com/code/jiaoyouzhang/cmi-2025-only-lightgbm\n",
    "</a>"
   ]
  },
  {
   "cell_type": "code",
   "execution_count": 5,
   "id": "3983c68d",
   "metadata": {
    "_cell_guid": "b1076dfc-b9ad-4769-8c92-a6c4dae69d19",
    "_uuid": "8f2839f25d086af736a60e9eeb907d3b93b6e0e5",
    "execution": {
     "iopub.execute_input": "2025-06-07T23:01:07.589067Z",
     "iopub.status.busy": "2025-06-07T23:01:07.588731Z",
     "iopub.status.idle": "2025-06-07T23:01:16.151388Z",
     "shell.execute_reply": "2025-06-07T23:01:16.150617Z"
    },
    "papermill": {
     "duration": 8.5671,
     "end_time": "2025-06-07T23:01:16.152859",
     "exception": false,
     "start_time": "2025-06-07T23:01:07.585759",
     "status": "completed"
    },
    "tags": []
   },
   "outputs": [],
   "source": [
    "import numpy as np\n",
    "import pandas as pd\n",
    "import polars as pl\n",
    "from sklearn.preprocessing import LabelEncoder\n",
    "from sklearn.model_selection import StratifiedKFold, StratifiedShuffleSplit\n",
    "from sklearn.metrics import f1_score, classification_report\n",
    "import lightgbm as lgb\n",
    "import os\n",
    "import warnings\n",
    "warnings.filterwarnings('ignore')\n",
    "from sklearn.preprocessing import LabelEncoder\n",
    "from sklearn.model_selection import StratifiedKFold\n",
    "from sklearn.metrics import accuracy_score, f1_score\n",
    "import joblib\n",
    "\n",
    "# Import evaluation API\n",
    "# import kaggle_evaluation.cmi_inference_server\n",
    "pd.set_option('display.max_rows', 500)\n",
    "random_seed = 42"
   ]
  },
  {
   "cell_type": "code",
   "execution_count": 6,
   "id": "9cde90c2",
   "metadata": {
    "execution": {
     "iopub.execute_input": "2025-06-07T23:01:16.158763Z",
     "iopub.status.busy": "2025-06-07T23:01:16.158233Z",
     "iopub.status.idle": "2025-06-07T23:01:27.162537Z",
     "shell.execute_reply": "2025-06-07T23:01:27.161915Z"
    },
    "papermill": {
     "duration": 11.008677,
     "end_time": "2025-06-07T23:01:27.163969",
     "exception": false,
     "start_time": "2025-06-07T23:01:16.155292",
     "status": "completed"
    },
    "tags": []
   },
   "outputs": [],
   "source": [
    "train = pl.read_csv('../../0_data/train.csv')\n",
    "train_demo = pl.read_csv(\"../../0_data/train_demographics.csv\")"
   ]
  },
  {
   "cell_type": "code",
   "execution_count": 7,
   "id": "f97989df",
   "metadata": {
    "execution": {
     "iopub.execute_input": "2025-06-07T23:01:27.169556Z",
     "iopub.status.busy": "2025-06-07T23:01:27.168955Z",
     "iopub.status.idle": "2025-06-07T23:01:27.278121Z",
     "shell.execute_reply": "2025-06-07T23:01:27.277476Z"
    },
    "papermill": {
     "duration": 0.113555,
     "end_time": "2025-06-07T23:01:27.279714",
     "exception": false,
     "start_time": "2025-06-07T23:01:27.166159",
     "status": "completed"
    },
    "tags": []
   },
   "outputs": [],
   "source": [
    "train = train.drop([\"sequence_type\",\"orientation\",\"behavior\",\"phase\"])\n",
    "data = train.join(train_demo,on=\"subject\",how=\"left\")"
   ]
  },
  {
   "cell_type": "code",
   "execution_count": 8,
   "id": "9614c1d7",
   "metadata": {
    "execution": {
     "iopub.execute_input": "2025-06-07T23:01:27.285307Z",
     "iopub.status.busy": "2025-06-07T23:01:27.284693Z",
     "iopub.status.idle": "2025-06-07T23:01:27.291493Z",
     "shell.execute_reply": "2025-06-07T23:01:27.290932Z"
    },
    "papermill": {
     "duration": 0.010464,
     "end_time": "2025-06-07T23:01:27.292538",
     "exception": false,
     "start_time": "2025-06-07T23:01:27.282074",
     "status": "completed"
    },
    "tags": []
   },
   "outputs": [],
   "source": [
    "def feature_engineering(data:pl.DataFrame):\n",
    "    demographic_cols = [\n",
    "    \"adult_child\", \"age\", \"sex\", \"handedness\",\n",
    "    \"height_cm\", \"shoulder_to_wrist_cm\", \"elbow_to_wrist_cm\"\n",
    "    ]\n",
    "    target_col = \"gesture\"\n",
    "    \n",
    "    # All numeric sensor columns (everything except id, demo, target)\n",
    "    stat_cols = [\n",
    "        c for c in data.columns\n",
    "        if c not in demographic_cols + [target_col, \"sequence_id\", \"row_id\",\"sequence_counter\",\"subject\"]\n",
    "    ]\n",
    "    \n",
    "    # Build aggregation expressions\n",
    "    agg_exprs = []\n",
    "    \n",
    "    # full-stats bundle for sensor columns\n",
    "    for c in stat_cols:\n",
    "        agg_exprs += [\n",
    "            pl.col(c).mean().alias(f\"{c}_mean\"),\n",
    "            pl.col(c).std().alias(f\"{c}_std\"),\n",
    "            pl.col(c).var().alias(f\"{c}_var\"),\n",
    "            # pl.col(c).mode().list.first().alias(f\"{c}_mode\"),\n",
    "            #pl.col(c).quantile(0.05).alias(f\"{c}_q5\"),\n",
    "            pl.col(c).quantile(0.25).alias(f\"{c}_q25\"),\n",
    "            pl.col(c).median().alias(f\"{c}_q50\"),\n",
    "            pl.col(c).quantile(0.75).alias(f\"{c}_q75\"),\n",
    "            #pl.col(c).quantile(0.95).alias(f\"{c}_q95\"),\n",
    "            pl.col(c).max().alias(f\"{c}_max\"),\n",
    "            pl.col(c).min().alias(f\"{c}_min\"),\n",
    "        ]\n",
    "    \n",
    "    # first() for demographics and target\n",
    "    agg_exprs += [\n",
    "        pl.col(c).first().alias(c) for c in demographic_cols + [target_col]\n",
    "    ]\n",
    "    \n",
    "    # Group-by and aggregate\n",
    "    cleaned_data = (\n",
    "        data\n",
    "        .group_by(\"sequence_id\", maintain_order=True)\n",
    "        .agg(agg_exprs)\n",
    "    )\n",
    "    return cleaned_data"
   ]
  },
  {
   "cell_type": "code",
   "execution_count": 9,
   "id": "3085640f",
   "metadata": {
    "execution": {
     "iopub.execute_input": "2025-06-07T23:01:27.297111Z",
     "iopub.status.busy": "2025-06-07T23:01:27.296909Z",
     "iopub.status.idle": "2025-06-07T23:01:32.424562Z",
     "shell.execute_reply": "2025-06-07T23:01:32.423662Z"
    },
    "papermill": {
     "duration": 5.131727,
     "end_time": "2025-06-07T23:01:32.426197",
     "exception": false,
     "start_time": "2025-06-07T23:01:27.294470",
     "status": "completed"
    },
    "tags": []
   },
   "outputs": [],
   "source": [
    "cleaned_data = feature_engineering(data)"
   ]
  },
  {
   "cell_type": "code",
   "execution_count": 10,
   "id": "3843155d",
   "metadata": {},
   "outputs": [
    {
     "name": "stdout",
     "output_type": "stream",
     "text": [
      "(574945, 344)\n",
      "(8151, 2665)\n"
     ]
    }
   ],
   "source": [
    "print(data.shape)\n",
    "print(cleaned_data.shape)\n"
   ]
  },
  {
   "cell_type": "code",
   "execution_count": 11,
   "id": "209e61f4",
   "metadata": {},
   "outputs": [
    {
     "data": {
      "text/html": [
       "<div><style>\n",
       ".dataframe > thead > tr,\n",
       ".dataframe > tbody > tr {\n",
       "  text-align: right;\n",
       "  white-space: pre-wrap;\n",
       "}\n",
       "</style>\n",
       "<small>shape: (3, 344)</small><table border=\"1\" class=\"dataframe\"><thead><tr><th>row_id</th><th>sequence_id</th><th>sequence_counter</th><th>subject</th><th>gesture</th><th>acc_x</th><th>acc_y</th><th>acc_z</th><th>rot_w</th><th>rot_x</th><th>rot_y</th><th>rot_z</th><th>thm_1</th><th>thm_2</th><th>thm_3</th><th>thm_4</th><th>thm_5</th><th>tof_1_v0</th><th>tof_1_v1</th><th>tof_1_v2</th><th>tof_1_v3</th><th>tof_1_v4</th><th>tof_1_v5</th><th>tof_1_v6</th><th>tof_1_v7</th><th>tof_1_v8</th><th>tof_1_v9</th><th>tof_1_v10</th><th>tof_1_v11</th><th>tof_1_v12</th><th>tof_1_v13</th><th>tof_1_v14</th><th>tof_1_v15</th><th>tof_1_v16</th><th>tof_1_v17</th><th>tof_1_v18</th><th>tof_1_v19</th><th>&hellip;</th><th>tof_5_v34</th><th>tof_5_v35</th><th>tof_5_v36</th><th>tof_5_v37</th><th>tof_5_v38</th><th>tof_5_v39</th><th>tof_5_v40</th><th>tof_5_v41</th><th>tof_5_v42</th><th>tof_5_v43</th><th>tof_5_v44</th><th>tof_5_v45</th><th>tof_5_v46</th><th>tof_5_v47</th><th>tof_5_v48</th><th>tof_5_v49</th><th>tof_5_v50</th><th>tof_5_v51</th><th>tof_5_v52</th><th>tof_5_v53</th><th>tof_5_v54</th><th>tof_5_v55</th><th>tof_5_v56</th><th>tof_5_v57</th><th>tof_5_v58</th><th>tof_5_v59</th><th>tof_5_v60</th><th>tof_5_v61</th><th>tof_5_v62</th><th>tof_5_v63</th><th>adult_child</th><th>age</th><th>sex</th><th>handedness</th><th>height_cm</th><th>shoulder_to_wrist_cm</th><th>elbow_to_wrist_cm</th></tr><tr><td>str</td><td>str</td><td>i64</td><td>str</td><td>str</td><td>f64</td><td>f64</td><td>f64</td><td>f64</td><td>f64</td><td>f64</td><td>f64</td><td>f64</td><td>f64</td><td>f64</td><td>f64</td><td>f64</td><td>f64</td><td>f64</td><td>f64</td><td>f64</td><td>f64</td><td>f64</td><td>f64</td><td>f64</td><td>f64</td><td>f64</td><td>f64</td><td>f64</td><td>f64</td><td>f64</td><td>f64</td><td>f64</td><td>f64</td><td>f64</td><td>f64</td><td>f64</td><td>&hellip;</td><td>f64</td><td>f64</td><td>f64</td><td>f64</td><td>f64</td><td>f64</td><td>f64</td><td>f64</td><td>f64</td><td>f64</td><td>f64</td><td>f64</td><td>f64</td><td>f64</td><td>f64</td><td>f64</td><td>f64</td><td>f64</td><td>f64</td><td>f64</td><td>f64</td><td>f64</td><td>f64</td><td>f64</td><td>f64</td><td>f64</td><td>f64</td><td>f64</td><td>f64</td><td>f64</td><td>i64</td><td>i64</td><td>i64</td><td>i64</td><td>f64</td><td>i64</td><td>f64</td></tr></thead><tbody><tr><td>&quot;SEQ_000007_000000&quot;</td><td>&quot;SEQ_000007&quot;</td><td>0</td><td>&quot;SUBJ_059520&quot;</td><td>&quot;Cheek - pinch skin&quot;</td><td>6.683594</td><td>6.214844</td><td>3.355469</td><td>0.134399</td><td>-0.355164</td><td>-0.447327</td><td>-0.809753</td><td>28.943842</td><td>31.822186</td><td>29.553024</td><td>28.592863</td><td>28.310535</td><td>131.0</td><td>134.0</td><td>132.0</td><td>135.0</td><td>98.0</td><td>74.0</td><td>64.0</td><td>60.0</td><td>-1.0</td><td>-1.0</td><td>152.0</td><td>153.0</td><td>141.0</td><td>89.0</td><td>68.0</td><td>63.0</td><td>-1.0</td><td>-1.0</td><td>-1.0</td><td>-1.0</td><td>&hellip;</td><td>128.0</td><td>121.0</td><td>119.0</td><td>121.0</td><td>129.0</td><td>-1.0</td><td>113.0</td><td>124.0</td><td>122.0</td><td>131.0</td><td>-1.0</td><td>-1.0</td><td>-1.0</td><td>-1.0</td><td>120.0</td><td>127.0</td><td>-1.0</td><td>-1.0</td><td>-1.0</td><td>-1.0</td><td>-1.0</td><td>-1.0</td><td>-1.0</td><td>-1.0</td><td>-1.0</td><td>-1.0</td><td>-1.0</td><td>-1.0</td><td>-1.0</td><td>-1.0</td><td>0</td><td>12</td><td>1</td><td>1</td><td>163.0</td><td>52</td><td>24.0</td></tr><tr><td>&quot;SEQ_000007_000001&quot;</td><td>&quot;SEQ_000007&quot;</td><td>1</td><td>&quot;SUBJ_059520&quot;</td><td>&quot;Cheek - pinch skin&quot;</td><td>6.949219</td><td>6.214844</td><td>3.125</td><td>0.143494</td><td>-0.340271</td><td>-0.42865</td><td>-0.824524</td><td>29.340816</td><td>31.874645</td><td>29.79174</td><td>28.663383</td><td>28.406172</td><td>130.0</td><td>138.0</td><td>131.0</td><td>135.0</td><td>101.0</td><td>76.0</td><td>66.0</td><td>61.0</td><td>-1.0</td><td>-1.0</td><td>156.0</td><td>155.0</td><td>141.0</td><td>93.0</td><td>74.0</td><td>64.0</td><td>-1.0</td><td>-1.0</td><td>-1.0</td><td>-1.0</td><td>&hellip;</td><td>133.0</td><td>127.0</td><td>123.0</td><td>127.0</td><td>134.0</td><td>-1.0</td><td>116.0</td><td>122.0</td><td>123.0</td><td>126.0</td><td>-1.0</td><td>-1.0</td><td>-1.0</td><td>-1.0</td><td>122.0</td><td>129.0</td><td>-1.0</td><td>-1.0</td><td>-1.0</td><td>-1.0</td><td>-1.0</td><td>-1.0</td><td>-1.0</td><td>-1.0</td><td>-1.0</td><td>-1.0</td><td>-1.0</td><td>-1.0</td><td>-1.0</td><td>-1.0</td><td>0</td><td>12</td><td>1</td><td>1</td><td>163.0</td><td>52</td><td>24.0</td></tr><tr><td>&quot;SEQ_000007_000002&quot;</td><td>&quot;SEQ_000007&quot;</td><td>2</td><td>&quot;SUBJ_059520&quot;</td><td>&quot;Cheek - pinch skin&quot;</td><td>5.722656</td><td>5.410156</td><td>5.421875</td><td>0.219055</td><td>-0.274231</td><td>-0.356934</td><td>-0.865662</td><td>30.339359</td><td>30.935045</td><td>30.090014</td><td>28.796087</td><td>28.529778</td><td>137.0</td><td>136.0</td><td>147.0</td><td>109.0</td><td>90.0</td><td>81.0</td><td>74.0</td><td>74.0</td><td>-1.0</td><td>164.0</td><td>165.0</td><td>146.0</td><td>106.0</td><td>94.0</td><td>77.0</td><td>77.0</td><td>-1.0</td><td>-1.0</td><td>-1.0</td><td>180.0</td><td>&hellip;</td><td>-1.0</td><td>156.0</td><td>136.0</td><td>135.0</td><td>134.0</td><td>-1.0</td><td>133.0</td><td>142.0</td><td>131.0</td><td>130.0</td><td>132.0</td><td>136.0</td><td>-1.0</td><td>-1.0</td><td>112.0</td><td>121.0</td><td>123.0</td><td>125.0</td><td>-1.0</td><td>-1.0</td><td>-1.0</td><td>-1.0</td><td>112.0</td><td>119.0</td><td>-1.0</td><td>-1.0</td><td>-1.0</td><td>-1.0</td><td>-1.0</td><td>-1.0</td><td>0</td><td>12</td><td>1</td><td>1</td><td>163.0</td><td>52</td><td>24.0</td></tr></tbody></table></div>"
      ],
      "text/plain": [
       "shape: (3, 344)\n",
       "┌───────────┬───────────┬───────────┬───────────┬───┬───────────┬───────────┬───────────┬──────────┐\n",
       "│ row_id    ┆ sequence_ ┆ sequence_ ┆ subject   ┆ … ┆ handednes ┆ height_cm ┆ shoulder_ ┆ elbow_to │\n",
       "│ ---       ┆ id        ┆ counter   ┆ ---       ┆   ┆ s         ┆ ---       ┆ to_wrist_ ┆ _wrist_c │\n",
       "│ str       ┆ ---       ┆ ---       ┆ str       ┆   ┆ ---       ┆ f64       ┆ cm        ┆ m        │\n",
       "│           ┆ str       ┆ i64       ┆           ┆   ┆ i64       ┆           ┆ ---       ┆ ---      │\n",
       "│           ┆           ┆           ┆           ┆   ┆           ┆           ┆ i64       ┆ f64      │\n",
       "╞═══════════╪═══════════╪═══════════╪═══════════╪═══╪═══════════╪═══════════╪═══════════╪══════════╡\n",
       "│ SEQ_00000 ┆ SEQ_00000 ┆ 0         ┆ SUBJ_0595 ┆ … ┆ 1         ┆ 163.0     ┆ 52        ┆ 24.0     │\n",
       "│ 7_000000  ┆ 7         ┆           ┆ 20        ┆   ┆           ┆           ┆           ┆          │\n",
       "│ SEQ_00000 ┆ SEQ_00000 ┆ 1         ┆ SUBJ_0595 ┆ … ┆ 1         ┆ 163.0     ┆ 52        ┆ 24.0     │\n",
       "│ 7_000001  ┆ 7         ┆           ┆ 20        ┆   ┆           ┆           ┆           ┆          │\n",
       "│ SEQ_00000 ┆ SEQ_00000 ┆ 2         ┆ SUBJ_0595 ┆ … ┆ 1         ┆ 163.0     ┆ 52        ┆ 24.0     │\n",
       "│ 7_000002  ┆ 7         ┆           ┆ 20        ┆   ┆           ┆           ┆           ┆          │\n",
       "└───────────┴───────────┴───────────┴───────────┴───┴───────────┴───────────┴───────────┴──────────┘"
      ]
     },
     "execution_count": 11,
     "metadata": {},
     "output_type": "execute_result"
    }
   ],
   "source": [
    "data.head(3)"
   ]
  },
  {
   "cell_type": "code",
   "execution_count": 12,
   "id": "d15634a9",
   "metadata": {},
   "outputs": [
    {
     "data": {
      "text/html": [
       "<div><style>\n",
       ".dataframe > thead > tr,\n",
       ".dataframe > tbody > tr {\n",
       "  text-align: right;\n",
       "  white-space: pre-wrap;\n",
       "}\n",
       "</style>\n",
       "<small>shape: (3, 2_665)</small><table border=\"1\" class=\"dataframe\"><thead><tr><th>sequence_id</th><th>acc_x_mean</th><th>acc_x_std</th><th>acc_x_var</th><th>acc_x_q25</th><th>acc_x_q50</th><th>acc_x_q75</th><th>acc_x_max</th><th>acc_x_min</th><th>acc_y_mean</th><th>acc_y_std</th><th>acc_y_var</th><th>acc_y_q25</th><th>acc_y_q50</th><th>acc_y_q75</th><th>acc_y_max</th><th>acc_y_min</th><th>acc_z_mean</th><th>acc_z_std</th><th>acc_z_var</th><th>acc_z_q25</th><th>acc_z_q50</th><th>acc_z_q75</th><th>acc_z_max</th><th>acc_z_min</th><th>rot_w_mean</th><th>rot_w_std</th><th>rot_w_var</th><th>rot_w_q25</th><th>rot_w_q50</th><th>rot_w_q75</th><th>rot_w_max</th><th>rot_w_min</th><th>rot_x_mean</th><th>rot_x_std</th><th>rot_x_var</th><th>rot_x_q25</th><th>&hellip;</th><th>tof_5_v60_q25</th><th>tof_5_v60_q50</th><th>tof_5_v60_q75</th><th>tof_5_v60_max</th><th>tof_5_v60_min</th><th>tof_5_v61_mean</th><th>tof_5_v61_std</th><th>tof_5_v61_var</th><th>tof_5_v61_q25</th><th>tof_5_v61_q50</th><th>tof_5_v61_q75</th><th>tof_5_v61_max</th><th>tof_5_v61_min</th><th>tof_5_v62_mean</th><th>tof_5_v62_std</th><th>tof_5_v62_var</th><th>tof_5_v62_q25</th><th>tof_5_v62_q50</th><th>tof_5_v62_q75</th><th>tof_5_v62_max</th><th>tof_5_v62_min</th><th>tof_5_v63_mean</th><th>tof_5_v63_std</th><th>tof_5_v63_var</th><th>tof_5_v63_q25</th><th>tof_5_v63_q50</th><th>tof_5_v63_q75</th><th>tof_5_v63_max</th><th>tof_5_v63_min</th><th>adult_child</th><th>age</th><th>sex</th><th>handedness</th><th>height_cm</th><th>shoulder_to_wrist_cm</th><th>elbow_to_wrist_cm</th><th>gesture</th></tr><tr><td>str</td><td>f64</td><td>f64</td><td>f64</td><td>f64</td><td>f64</td><td>f64</td><td>f64</td><td>f64</td><td>f64</td><td>f64</td><td>f64</td><td>f64</td><td>f64</td><td>f64</td><td>f64</td><td>f64</td><td>f64</td><td>f64</td><td>f64</td><td>f64</td><td>f64</td><td>f64</td><td>f64</td><td>f64</td><td>f64</td><td>f64</td><td>f64</td><td>f64</td><td>f64</td><td>f64</td><td>f64</td><td>f64</td><td>f64</td><td>f64</td><td>f64</td><td>f64</td><td>&hellip;</td><td>f64</td><td>f64</td><td>f64</td><td>f64</td><td>f64</td><td>f64</td><td>f64</td><td>f64</td><td>f64</td><td>f64</td><td>f64</td><td>f64</td><td>f64</td><td>f64</td><td>f64</td><td>f64</td><td>f64</td><td>f64</td><td>f64</td><td>f64</td><td>f64</td><td>f64</td><td>f64</td><td>f64</td><td>f64</td><td>f64</td><td>f64</td><td>f64</td><td>f64</td><td>i64</td><td>i64</td><td>i64</td><td>i64</td><td>f64</td><td>i64</td><td>f64</td><td>str</td></tr></thead><tbody><tr><td>&quot;SEQ_000007&quot;</td><td>6.153098</td><td>1.334155</td><td>1.779969</td><td>5.566406</td><td>6.488281</td><td>6.988281</td><td>9.015625</td><td>3.613281</td><td>3.91557</td><td>3.048287</td><td>9.292055</td><td>3.53125</td><td>5.488281</td><td>5.984375</td><td>6.519531</td><td>-2.019531</td><td>5.577782</td><td>2.337517</td><td>5.463986</td><td>3.660156</td><td>4.964844</td><td>6.875</td><td>9.792969</td><td>1.09375</td><td>0.263574</td><td>0.069033</td><td>0.004765</td><td>0.209961</td><td>0.254578</td><td>0.322571</td><td>0.379272</td><td>0.134399</td><td>-0.280817</td><td>0.056597</td><td>0.003203</td><td>-0.310242</td><td>&hellip;</td><td>-1.0</td><td>91.0</td><td>99.0</td><td>115.0</td><td>-1.0</td><td>51.877193</td><td>49.119777</td><td>2412.752506</td><td>-1.0</td><td>88.0</td><td>97.0</td><td>114.0</td><td>-1.0</td><td>55.947368</td><td>52.207492</td><td>2725.62218</td><td>-1.0</td><td>86.0</td><td>95.0</td><td>226.0</td><td>-1.0</td><td>41.192982</td><td>46.573843</td><td>2169.122807</td><td>-1.0</td><td>-1.0</td><td>92.0</td><td>99.0</td><td>-1.0</td><td>0</td><td>12</td><td>1</td><td>1</td><td>163.0</td><td>52</td><td>24.0</td><td>&quot;Cheek - pinch skin&quot;</td></tr><tr><td>&quot;SEQ_000008&quot;</td><td>3.400506</td><td>1.087142</td><td>1.181878</td><td>2.574219</td><td>3.4375</td><td>4.4140625</td><td>5.90625</td><td>1.734375</td><td>5.311179</td><td>3.268073</td><td>10.6803</td><td>0.546875</td><td>7.0</td><td>7.785156</td><td>8.667969</td><td>-0.222656</td><td>6.581629</td><td>2.475402</td><td>6.127617</td><td>4.480469</td><td>5.839844</td><td>9.5703125</td><td>11.074219</td><td>1.722656</td><td>0.243493</td><td>0.064414</td><td>0.004149</td><td>0.196777</td><td>0.2265625</td><td>0.319092</td><td>0.34198</td><td>0.157593</td><td>-0.117145</td><td>0.049384</td><td>0.002439</td><td>-0.160339</td><td>&hellip;</td><td>-1.0</td><td>-1.0</td><td>-1.0</td><td>-1.0</td><td>-1.0</td><td>-1.0</td><td>0.0</td><td>0.0</td><td>-1.0</td><td>-1.0</td><td>-1.0</td><td>-1.0</td><td>-1.0</td><td>-1.0</td><td>0.0</td><td>0.0</td><td>-1.0</td><td>-1.0</td><td>-1.0</td><td>-1.0</td><td>-1.0</td><td>-1.0</td><td>0.0</td><td>0.0</td><td>-1.0</td><td>-1.0</td><td>-1.0</td><td>-1.0</td><td>-1.0</td><td>1</td><td>24</td><td>1</td><td>1</td><td>173.0</td><td>49</td><td>26.0</td><td>&quot;Forehead - pull hairline&quot;</td></tr><tr><td>&quot;SEQ_000013&quot;</td><td>-7.058962</td><td>1.295184</td><td>1.677501</td><td>-8.136719</td><td>-7.144531</td><td>-6.222656</td><td>-3.347656</td><td>-9.25</td><td>2.346182</td><td>2.564639</td><td>6.577376</td><td>2.15625</td><td>3.3828125</td><td>3.917969</td><td>4.683594</td><td>-3.273438</td><td>-6.068544</td><td>1.330784</td><td>1.770986</td><td>-6.617188</td><td>-5.851562</td><td>-5.277344</td><td>-3.515625</td><td>-10.945312</td><td>0.392208</td><td>0.150629</td><td>0.022689</td><td>0.404968</td><td>0.439514</td><td>0.48175</td><td>0.540771</td><td>0.061157</td><td>0.340804</td><td>0.182002</td><td>0.033125</td><td>0.22937</td><td>&hellip;</td><td>-1.0</td><td>-1.0</td><td>-1.0</td><td>-1.0</td><td>-1.0</td><td>3.603774</td><td>33.515978</td><td>1123.320755</td><td>-1.0</td><td>-1.0</td><td>-1.0</td><td>243.0</td><td>-1.0</td><td>-1.0</td><td>0.0</td><td>0.0</td><td>-1.0</td><td>-1.0</td><td>-1.0</td><td>-1.0</td><td>-1.0</td><td>-1.0</td><td>0.0</td><td>0.0</td><td>-1.0</td><td>-1.0</td><td>-1.0</td><td>-1.0</td><td>-1.0</td><td>0</td><td>12</td><td>1</td><td>1</td><td>157.0</td><td>44</td><td>26.0</td><td>&quot;Cheek - pinch skin&quot;</td></tr></tbody></table></div>"
      ],
      "text/plain": [
       "shape: (3, 2_665)\n",
       "┌───────────┬───────────┬───────────┬───────────┬───┬───────────┬───────────┬───────────┬──────────┐\n",
       "│ sequence_ ┆ acc_x_mea ┆ acc_x_std ┆ acc_x_var ┆ … ┆ height_cm ┆ shoulder_ ┆ elbow_to_ ┆ gesture  │\n",
       "│ id        ┆ n         ┆ ---       ┆ ---       ┆   ┆ ---       ┆ to_wrist_ ┆ wrist_cm  ┆ ---      │\n",
       "│ ---       ┆ ---       ┆ f64       ┆ f64       ┆   ┆ f64       ┆ cm        ┆ ---       ┆ str      │\n",
       "│ str       ┆ f64       ┆           ┆           ┆   ┆           ┆ ---       ┆ f64       ┆          │\n",
       "│           ┆           ┆           ┆           ┆   ┆           ┆ i64       ┆           ┆          │\n",
       "╞═══════════╪═══════════╪═══════════╪═══════════╪═══╪═══════════╪═══════════╪═══════════╪══════════╡\n",
       "│ SEQ_00000 ┆ 6.153098  ┆ 1.334155  ┆ 1.779969  ┆ … ┆ 163.0     ┆ 52        ┆ 24.0      ┆ Cheek -  │\n",
       "│ 7         ┆           ┆           ┆           ┆   ┆           ┆           ┆           ┆ pinch    │\n",
       "│           ┆           ┆           ┆           ┆   ┆           ┆           ┆           ┆ skin     │\n",
       "│ SEQ_00000 ┆ 3.400506  ┆ 1.087142  ┆ 1.181878  ┆ … ┆ 173.0     ┆ 49        ┆ 26.0      ┆ Forehead │\n",
       "│ 8         ┆           ┆           ┆           ┆   ┆           ┆           ┆           ┆ - pull   │\n",
       "│           ┆           ┆           ┆           ┆   ┆           ┆           ┆           ┆ hairline │\n",
       "│ SEQ_00001 ┆ -7.058962 ┆ 1.295184  ┆ 1.677501  ┆ … ┆ 157.0     ┆ 44        ┆ 26.0      ┆ Cheek -  │\n",
       "│ 3         ┆           ┆           ┆           ┆   ┆           ┆           ┆           ┆ pinch    │\n",
       "│           ┆           ┆           ┆           ┆   ┆           ┆           ┆           ┆ skin     │\n",
       "└───────────┴───────────┴───────────┴───────────┴───┴───────────┴───────────┴───────────┴──────────┘"
      ]
     },
     "execution_count": 12,
     "metadata": {},
     "output_type": "execute_result"
    }
   ],
   "source": [
    "cleaned_data.head(3)"
   ]
  },
  {
   "cell_type": "code",
   "execution_count": null,
   "id": "5430e322",
   "metadata": {},
   "outputs": [],
   "source": []
  },
  {
   "cell_type": "code",
   "execution_count": 6,
   "id": "ff096df8",
   "metadata": {
    "execution": {
     "iopub.execute_input": "2025-06-07T23:01:32.431488Z",
     "iopub.status.busy": "2025-06-07T23:01:32.431266Z",
     "iopub.status.idle": "2025-06-07T23:01:32.698937Z",
     "shell.execute_reply": "2025-06-07T23:01:32.698108Z"
    },
    "papermill": {
     "duration": 0.271676,
     "end_time": "2025-06-07T23:01:32.700225",
     "exception": false,
     "start_time": "2025-06-07T23:01:32.428549",
     "status": "completed"
    },
    "tags": []
   },
   "outputs": [
    {
     "data": {
      "text/plain": [
       "['le.joblib']"
      ]
     },
     "execution_count": 6,
     "metadata": {},
     "output_type": "execute_result"
    }
   ],
   "source": [
    "target_col = \"gesture\"\n",
    "pdf = cleaned_data.to_pandas()  # keeps nullable dtypes\n",
    "\n",
    "le = LabelEncoder()\n",
    "y = le.fit_transform(pdf[target_col])\n",
    "X = pdf.drop(columns=[target_col, \"sequence_id\"])         # drop id + label\n",
    "\n",
    "joblib.dump(le, 'le.joblib')"
   ]
  },
  {
   "cell_type": "code",
   "execution_count": 7,
   "id": "e85978dd",
   "metadata": {
    "execution": {
     "iopub.execute_input": "2025-06-07T23:01:32.705627Z",
     "iopub.status.busy": "2025-06-07T23:01:32.705411Z",
     "iopub.status.idle": "2025-06-07T23:01:32.710537Z",
     "shell.execute_reply": "2025-06-07T23:01:32.709972Z"
    },
    "papermill": {
     "duration": 0.009047,
     "end_time": "2025-06-07T23:01:32.711657",
     "exception": false,
     "start_time": "2025-06-07T23:01:32.702610",
     "status": "completed"
    },
    "tags": []
   },
   "outputs": [],
   "source": [
    "def competition_metric(y_true, y_pred, le_instance, all_original_gestures):\n",
    "    \"\"\"\n",
    "    Competition metric calculation\n",
    "    \"\"\"\n",
    "    bfrb_gestures = [g for g in all_original_gestures if g in le_instance.classes_]\n",
    "    \n",
    "    # Binary F1: All are Target in this filtered dataset\n",
    "    y_true_binary = np.ones_like(y_true, dtype=int)\n",
    "    y_pred_binary = np.ones_like(y_pred, dtype=int)\n",
    "    binary_f1 = f1_score(y_true_binary, y_pred_binary, average='binary', pos_label=1, zero_division=0)\n",
    "    \n",
    "    # Macro F1: specific gesture classification\n",
    "    macro_f1 = f1_score(y_true, y_pred, average='macro', zero_division=0)\n",
    "    \n",
    "    final_score = (binary_f1 + macro_f1) / 2\n",
    "    return final_score, binary_f1, macro_f1"
   ]
  },
  {
   "cell_type": "code",
   "execution_count": 8,
   "id": "2a67f079",
   "metadata": {
    "execution": {
     "iopub.execute_input": "2025-06-07T23:01:32.716640Z",
     "iopub.status.busy": "2025-06-07T23:01:32.716430Z",
     "iopub.status.idle": "2025-06-07T23:22:28.691358Z",
     "shell.execute_reply": "2025-06-07T23:22:28.690256Z"
    },
    "papermill": {
     "duration": 1255.979066,
     "end_time": "2025-06-07T23:22:28.692815",
     "exception": false,
     "start_time": "2025-06-07T23:01:32.713749",
     "status": "completed"
    },
    "tags": []
   },
   "outputs": [
    {
     "name": "stdout",
     "output_type": "stream",
     "text": [
      "\n",
      "Training LightGBM models with cross-validation...\n",
      "\n",
      "Fold 1/5\n"
     ]
    },
    {
     "name": "stderr",
     "output_type": "stream",
     "text": [
      "1 warning generated.\n",
      "1 warning generated.\n",
      "1 warning generated.\n",
      "1 warning generated.\n",
      "1 warning generated.\n",
      "1 warning generated.\n",
      "1 warning generated.\n",
      "1 warning generated.\n",
      "1 warning generated.\n",
      "1 warning generated.\n",
      "1 warning generated.\n",
      "1 warning generated.\n",
      "1 warning generated.\n",
      "1 warning generated.\n",
      "1 warning generated.\n",
      "1 warning generated.\n",
      "1 warning generated.\n",
      "1 warning generated.\n",
      "1 warning generated.\n",
      "1 warning generated.\n",
      "1 warning generated.\n",
      "1 warning generated.\n",
      "1 warning generated.\n",
      "1 warning generated.\n",
      "1 warning generated.\n",
      "1 warning generated.\n",
      "1 warning generated.\n",
      "1 warning generated.\n",
      "1 warning generated.\n",
      "1 warning generated.\n",
      "1 warning generated.\n",
      "1 warning generated.\n",
      "1 warning generated.\n"
     ]
    },
    {
     "name": "stdout",
     "output_type": "stream",
     "text": [
      "Training until validation scores don't improve for 100 rounds\n",
      "Early stopping, best iteration is:\n",
      "[253]\tvalid_0's multi_logloss: 1.04424\n",
      "Fold 1 - Competition Score: 0.8104 (Binary F1: 1.0000, Macro F1: 0.6208)\n",
      "            Feature  Importance\n",
      "23        acc_z_min        1055\n",
      "14        acc_y_max         949\n",
      "7         acc_x_min         812\n",
      "13        acc_y_q75         743\n",
      "15        acc_y_min         684\n",
      "...             ...         ...\n",
      "1031  tof_2_v52_min           0\n",
      "1039  tof_2_v53_min           0\n",
      "1055  tof_2_v55_min           0\n",
      "655    tof_2_v5_min           0\n",
      "967   tof_2_v44_min           0\n",
      "\n",
      "[2663 rows x 2 columns]\n",
      "\n",
      "Fold 2/5\n",
      "Training until validation scores don't improve for 100 rounds\n",
      "Early stopping, best iteration is:\n",
      "[229]\tvalid_0's multi_logloss: 1.00521\n",
      "Fold 2 - Competition Score: 0.8109 (Binary F1: 1.0000, Macro F1: 0.6218)\n",
      "            Feature  Importance\n",
      "23        acc_z_min        1095\n",
      "14        acc_y_max         893\n",
      "7         acc_x_min         778\n",
      "13        acc_y_q75         683\n",
      "46        rot_y_max         630\n",
      "...             ...         ...\n",
      "2399  tof_5_v31_min           0\n",
      "2419  tof_5_v34_q25           0\n",
      "375   tof_1_v34_min           0\n",
      "959   tof_2_v43_min           0\n",
      "1175   tof_3_v6_min           0\n",
      "\n",
      "[2663 rows x 2 columns]\n",
      "\n",
      "Fold 3/5\n",
      "Training until validation scores don't improve for 100 rounds\n",
      "Early stopping, best iteration is:\n",
      "[202]\tvalid_0's multi_logloss: 1.04749\n",
      "Fold 3 - Competition Score: 0.8072 (Binary F1: 1.0000, Macro F1: 0.6144)\n",
      "            Feature  Importance\n",
      "23        acc_z_min         945\n",
      "14        acc_y_max         896\n",
      "7         acc_x_min         774\n",
      "13        acc_y_q75         628\n",
      "15        acc_y_min         568\n",
      "...             ...         ...\n",
      "503   tof_1_v50_min           0\n",
      "455   tof_1_v44_min           0\n",
      "463   tof_1_v45_min           0\n",
      "471   tof_1_v46_min           0\n",
      "2423  tof_5_v34_min           0\n",
      "\n",
      "[2663 rows x 2 columns]\n",
      "\n",
      "Fold 4/5\n",
      "Training until validation scores don't improve for 100 rounds\n",
      "Early stopping, best iteration is:\n",
      "[188]\tvalid_0's multi_logloss: 1.10377\n",
      "Fold 4 - Competition Score: 0.8012 (Binary F1: 1.0000, Macro F1: 0.6023)\n",
      "            Feature  Importance\n",
      "23        acc_z_min         948\n",
      "14        acc_y_max         876\n",
      "7         acc_x_min         679\n",
      "15        acc_y_min         563\n",
      "13        acc_y_q75         549\n",
      "...             ...         ...\n",
      "383   tof_1_v35_min           0\n",
      "2567  tof_5_v52_min           0\n",
      "1423  tof_3_v37_min           0\n",
      "1431  tof_3_v38_min           0\n",
      "2519  tof_5_v46_min           0\n",
      "\n",
      "[2663 rows x 2 columns]\n",
      "\n",
      "Fold 5/5\n",
      "Training until validation scores don't improve for 100 rounds\n",
      "Early stopping, best iteration is:\n",
      "[197]\tvalid_0's multi_logloss: 1.02269\n",
      "Fold 5 - Competition Score: 0.8072 (Binary F1: 1.0000, Macro F1: 0.6143)\n",
      "            Feature  Importance\n",
      "23        acc_z_min         938\n",
      "14        acc_y_max         837\n",
      "7         acc_x_min         749\n",
      "13        acc_y_q75         675\n",
      "46        rot_y_max         519\n",
      "...             ...         ...\n",
      "1119  tof_2_v63_min           0\n",
      "455   tof_1_v44_min           0\n",
      "575   tof_1_v59_min           0\n",
      "487   tof_1_v48_min           0\n",
      "1127   tof_3_v0_min           0\n",
      "\n",
      "[2663 rows x 2 columns]\n",
      "\n",
      "Cross-validation results:\n",
      "Mean CV Score: 0.8074 (+/- 0.0069)\n",
      "Individual fold scores: [0.8103818740877368, 0.8109045041883223, 0.8071753299174163, 0.801171064483243, 0.8071592542682257]\n",
      "\n",
      "Training final model on all training data...\n"
     ]
    }
   ],
   "source": [
    "cv = StratifiedKFold(n_splits=5, shuffle=True, random_state=42)\n",
    "cv_scores = []\n",
    "models = []\n",
    "\n",
    "all_original_gestures_in_train = pdf['gesture'].unique()\n",
    "\n",
    "callbacks = [lgb.early_stopping(stopping_rounds=100, verbose=100)]\n",
    "\n",
    "# LightGBM model with cross-validation\n",
    "print(\"\\nTraining LightGBM models with cross-validation...\")\n",
    "for fold, (train_idx, val_idx) in enumerate(cv.split(X, y)):\n",
    "    print(f\"\\nFold {fold + 1}/5\")\n",
    "    \n",
    "    X_train_fold, X_val_fold = X.iloc[train_idx], X.iloc[val_idx]\n",
    "    y_train_fold, y_val_fold = y[train_idx], y[val_idx]\n",
    "    \n",
    "    # LightGBM model with GPU acceleration\n",
    "    model = lgb.LGBMClassifier(\n",
    "        objective='multiclass',\n",
    "        n_estimators= 1000,\n",
    "        learning_rate= 0.08,\n",
    "        max_depth= 15,\n",
    "        reg_alpha= 0.8,\n",
    "        lambda_l2= 4.0,  \n",
    "        num_leaves=31, \n",
    "        min_child_samples= 32,\n",
    "        colsample_bytree= 0.85,\n",
    "        subsample= 0.5,\n",
    "        subsample_freq=0,\n",
    "        cat_smooth=20.0,\n",
    "        is_unbalance=True,\n",
    "        max_bin=127,\n",
    "        verbose=-1,  \n",
    "        metric='multi_logloss',   \n",
    "        device='gpu',  \n",
    "    )\n",
    "    \n",
    "    # Train model with verbose output\n",
    "    model.fit(\n",
    "        X_train_fold, y_train_fold,\n",
    "        eval_set=[(X_val_fold, y_val_fold)],  \n",
    "        eval_metric='multi_logloss',  \n",
    "        callbacks=callbacks\n",
    "    )\n",
    "    \n",
    "    # Predict\n",
    "    y_pred_fold = model.predict(X_val_fold)\n",
    "    \n",
    "    # Calculate score\n",
    "    score, binary_f1, macro_f1 = competition_metric(\n",
    "        y_val_fold, y_pred_fold, le, all_original_gestures_in_train\n",
    "    )\n",
    "    \n",
    "    cv_scores.append(score)\n",
    "    models.append(model)\n",
    "    joblib.dump(model, f'model_lgb{fold}.joblib')\n",
    "    \n",
    "    print(f\"Fold {fold + 1} - Competition Score: {score:.4f} (Binary F1: {binary_f1:.4f}, Macro F1: {macro_f1:.4f})\")\n",
    "\n",
    "    # feature importances\n",
    "    feature_importances = model.feature_importances_    \n",
    "    feature_names = X.columns    \n",
    "    feature_importance_df = pd.DataFrame({\n",
    "        'Feature': feature_names,\n",
    "        'Importance': feature_importances\n",
    "    })    \n",
    "    feature_importance_df = feature_importance_df.sort_values(by='Importance', ascending=False)    \n",
    "    print(feature_importance_df)\n",
    "\n",
    "print(f\"\\nCross-validation results:\")\n",
    "print(f\"Mean CV Score: {np.mean(cv_scores):.4f} (+/- {np.std(cv_scores) * 2:.4f})\")\n",
    "print(f\"Individual fold scores: {cv_scores}\")\n",
    "\n",
    "# Train final model on all data with GPU acceleration\n",
    "print(\"\\nTraining final model on all training data...\")"
   ]
  }
 ],
 "metadata": {
  "kaggle": {
   "accelerator": "gpu",
   "dataSources": [
    {
     "databundleVersionId": 12518947,
     "sourceId": 102335,
     "sourceType": "competition"
    }
   ],
   "dockerImageVersionId": 31041,
   "isGpuEnabled": true,
   "isInternetEnabled": false,
   "language": "python",
   "sourceType": "notebook"
  },
  "kernelspec": {
   "display_name": "kaggle__env",
   "language": "python",
   "name": "python3"
  },
  "language_info": {
   "codemirror_mode": {
    "name": "ipython",
    "version": 3
   },
   "file_extension": ".py",
   "mimetype": "text/x-python",
   "name": "python",
   "nbconvert_exporter": "python",
   "pygments_lexer": "ipython3",
   "version": "3.11.9"
  },
  "papermill": {
   "default_parameters": {},
   "duration": 1287.970763,
   "end_time": "2025-06-07T23:22:30.964393",
   "environment_variables": {},
   "exception": null,
   "input_path": "__notebook__.ipynb",
   "output_path": "__notebook__.ipynb",
   "parameters": {},
   "start_time": "2025-06-07T23:01:02.993630",
   "version": "2.6.0"
  }
 },
 "nbformat": 4,
 "nbformat_minor": 5
}
