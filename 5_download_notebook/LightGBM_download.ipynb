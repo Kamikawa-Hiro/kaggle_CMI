{
 "cells": [
  {
   "cell_type": "markdown",
   "id": "91ac365c",
   "metadata": {
    "papermill": {
     "duration": 0.00272,
     "end_time": "2025-06-07T23:01:07.583341",
     "exception": false,
     "start_time": "2025-06-07T23:01:07.580621",
     "status": "completed"
    },
    "tags": []
   },
   "source": [
    "<h2>This is the code for training models. The running time exceeded 15 minutes, so I separated the training and inference. \n",
    "The inference code is here</h2>\n",
    "<a href='https://www.kaggle.com/code/jiaoyouzhang/cmi-2025-only-lightgbm'>\n",
    "  https://www.kaggle.com/code/jiaoyouzhang/cmi-2025-only-lightgbm\n",
    "</a>"
   ]
  },
  {
   "cell_type": "code",
   "execution_count": 1,
   "id": "3983c68d",
   "metadata": {
    "_cell_guid": "b1076dfc-b9ad-4769-8c92-a6c4dae69d19",
    "_uuid": "8f2839f25d086af736a60e9eeb907d3b93b6e0e5",
    "execution": {
     "iopub.execute_input": "2025-06-07T23:01:07.589067Z",
     "iopub.status.busy": "2025-06-07T23:01:07.588731Z",
     "iopub.status.idle": "2025-06-07T23:01:16.151388Z",
     "shell.execute_reply": "2025-06-07T23:01:16.150617Z"
    },
    "papermill": {
     "duration": 8.5671,
     "end_time": "2025-06-07T23:01:16.152859",
     "exception": false,
     "start_time": "2025-06-07T23:01:07.585759",
     "status": "completed"
    },
    "tags": []
   },
   "outputs": [],
   "source": [
    "import numpy as np\n",
    "import pandas as pd\n",
    "import polars as pl\n",
    "from sklearn.preprocessing import LabelEncoder\n",
    "from sklearn.model_selection import StratifiedKFold, StratifiedShuffleSplit\n",
    "from sklearn.metrics import f1_score, classification_report\n",
    "import lightgbm as lgb\n",
    "import os\n",
    "import warnings\n",
    "warnings.filterwarnings('ignore')\n",
    "from sklearn.preprocessing import LabelEncoder\n",
    "from sklearn.model_selection import StratifiedKFold\n",
    "from sklearn.metrics import accuracy_score, f1_score\n",
    "import joblib\n",
    "\n",
    "# Import evaluation API\n",
    "import kaggle_evaluation.cmi_inference_server\n",
    "pd.set_option('display.max_rows', 500)\n",
    "random_seed = 42"
   ]
  },
  {
   "cell_type": "code",
   "execution_count": 2,
   "id": "9cde90c2",
   "metadata": {
    "execution": {
     "iopub.execute_input": "2025-06-07T23:01:16.158763Z",
     "iopub.status.busy": "2025-06-07T23:01:16.158233Z",
     "iopub.status.idle": "2025-06-07T23:01:27.162537Z",
     "shell.execute_reply": "2025-06-07T23:01:27.161915Z"
    },
    "papermill": {
     "duration": 11.008677,
     "end_time": "2025-06-07T23:01:27.163969",
     "exception": false,
     "start_time": "2025-06-07T23:01:16.155292",
     "status": "completed"
    },
    "tags": []
   },
   "outputs": [],
   "source": [
    "train = pl.read_csv(\"/kaggle/input/cmi-detect-behavior-with-sensor-data/train.csv\")\n",
    "train_demo = pl.read_csv(\"/kaggle/input/cmi-detect-behavior-with-sensor-data/train_demographics.csv\")"
   ]
  },
  {
   "cell_type": "code",
   "execution_count": 3,
   "id": "f97989df",
   "metadata": {
    "execution": {
     "iopub.execute_input": "2025-06-07T23:01:27.169556Z",
     "iopub.status.busy": "2025-06-07T23:01:27.168955Z",
     "iopub.status.idle": "2025-06-07T23:01:27.278121Z",
     "shell.execute_reply": "2025-06-07T23:01:27.277476Z"
    },
    "papermill": {
     "duration": 0.113555,
     "end_time": "2025-06-07T23:01:27.279714",
     "exception": false,
     "start_time": "2025-06-07T23:01:27.166159",
     "status": "completed"
    },
    "tags": []
   },
   "outputs": [],
   "source": [
    "train = train.drop([\"sequence_type\",\"orientation\",\"behavior\",\"phase\"])\n",
    "data = train.join(train_demo,on=\"subject\",how=\"left\")"
   ]
  },
  {
   "cell_type": "code",
   "execution_count": 4,
   "id": "9614c1d7",
   "metadata": {
    "execution": {
     "iopub.execute_input": "2025-06-07T23:01:27.285307Z",
     "iopub.status.busy": "2025-06-07T23:01:27.284693Z",
     "iopub.status.idle": "2025-06-07T23:01:27.291493Z",
     "shell.execute_reply": "2025-06-07T23:01:27.290932Z"
    },
    "papermill": {
     "duration": 0.010464,
     "end_time": "2025-06-07T23:01:27.292538",
     "exception": false,
     "start_time": "2025-06-07T23:01:27.282074",
     "status": "completed"
    },
    "tags": []
   },
   "outputs": [],
   "source": [
    "def feature_engineering(data:pl.DataFrame):\n",
    "    demographic_cols = [\n",
    "    \"adult_child\", \"age\", \"sex\", \"handedness\",\n",
    "    \"height_cm\", \"shoulder_to_wrist_cm\", \"elbow_to_wrist_cm\"\n",
    "    ]\n",
    "    target_col = \"gesture\"\n",
    "    \n",
    "    # All numeric sensor columns (everything except id, demo, target)\n",
    "    stat_cols = [\n",
    "        c for c in data.columns\n",
    "        if c not in demographic_cols + [target_col, \"sequence_id\", \"row_id\",\"sequence_counter\",\"subject\"]\n",
    "    ]\n",
    "    \n",
    "    # Build aggregation expressions\n",
    "    agg_exprs = []\n",
    "    \n",
    "    # full-stats bundle for sensor columns\n",
    "    for c in stat_cols:\n",
    "        agg_exprs += [\n",
    "            pl.col(c).mean().alias(f\"{c}_mean\"),\n",
    "            pl.col(c).std().alias(f\"{c}_std\"),\n",
    "            pl.col(c).var().alias(f\"{c}_var\"),\n",
    "            # pl.col(c).mode().list.first().alias(f\"{c}_mode\"),\n",
    "            #pl.col(c).quantile(0.05).alias(f\"{c}_q5\"),\n",
    "            pl.col(c).quantile(0.25).alias(f\"{c}_q25\"),\n",
    "            pl.col(c).median().alias(f\"{c}_q50\"),\n",
    "            pl.col(c).quantile(0.75).alias(f\"{c}_q75\"),\n",
    "            #pl.col(c).quantile(0.95).alias(f\"{c}_q95\"),\n",
    "            pl.col(c).max().alias(f\"{c}_max\"),\n",
    "            pl.col(c).min().alias(f\"{c}_min\"),\n",
    "        ]\n",
    "    \n",
    "    # first() for demographics and target\n",
    "    agg_exprs += [\n",
    "        pl.col(c).first().alias(c) for c in demographic_cols + [target_col]\n",
    "    ]\n",
    "    \n",
    "    # Group-by and aggregate\n",
    "    cleaned_data = (\n",
    "        data\n",
    "        .group_by(\"sequence_id\", maintain_order=True)\n",
    "        .agg(agg_exprs)\n",
    "    )\n",
    "    return cleaned_data"
   ]
  },
  {
   "cell_type": "code",
   "execution_count": 5,
   "id": "3085640f",
   "metadata": {
    "execution": {
     "iopub.execute_input": "2025-06-07T23:01:27.297111Z",
     "iopub.status.busy": "2025-06-07T23:01:27.296909Z",
     "iopub.status.idle": "2025-06-07T23:01:32.424562Z",
     "shell.execute_reply": "2025-06-07T23:01:32.423662Z"
    },
    "papermill": {
     "duration": 5.131727,
     "end_time": "2025-06-07T23:01:32.426197",
     "exception": false,
     "start_time": "2025-06-07T23:01:27.294470",
     "status": "completed"
    },
    "tags": []
   },
   "outputs": [],
   "source": [
    "cleaned_data = feature_engineering(data)"
   ]
  },
  {
   "cell_type": "code",
   "execution_count": 6,
   "id": "ff096df8",
   "metadata": {
    "execution": {
     "iopub.execute_input": "2025-06-07T23:01:32.431488Z",
     "iopub.status.busy": "2025-06-07T23:01:32.431266Z",
     "iopub.status.idle": "2025-06-07T23:01:32.698937Z",
     "shell.execute_reply": "2025-06-07T23:01:32.698108Z"
    },
    "papermill": {
     "duration": 0.271676,
     "end_time": "2025-06-07T23:01:32.700225",
     "exception": false,
     "start_time": "2025-06-07T23:01:32.428549",
     "status": "completed"
    },
    "tags": []
   },
   "outputs": [
    {
     "data": {
      "text/plain": [
       "['le.joblib']"
      ]
     },
     "execution_count": 6,
     "metadata": {},
     "output_type": "execute_result"
    }
   ],
   "source": [
    "target_col = \"gesture\"\n",
    "pdf = cleaned_data.to_pandas()  # keeps nullable dtypes\n",
    "\n",
    "le = LabelEncoder()\n",
    "y = le.fit_transform(pdf[target_col])\n",
    "X = pdf.drop(columns=[target_col, \"sequence_id\"])         # drop id + label\n",
    "\n",
    "joblib.dump(le, 'le.joblib')"
   ]
  },
  {
   "cell_type": "code",
   "execution_count": 7,
   "id": "e85978dd",
   "metadata": {
    "execution": {
     "iopub.execute_input": "2025-06-07T23:01:32.705627Z",
     "iopub.status.busy": "2025-06-07T23:01:32.705411Z",
     "iopub.status.idle": "2025-06-07T23:01:32.710537Z",
     "shell.execute_reply": "2025-06-07T23:01:32.709972Z"
    },
    "papermill": {
     "duration": 0.009047,
     "end_time": "2025-06-07T23:01:32.711657",
     "exception": false,
     "start_time": "2025-06-07T23:01:32.702610",
     "status": "completed"
    },
    "tags": []
   },
   "outputs": [],
   "source": [
    "def competition_metric(y_true, y_pred, le_instance, all_original_gestures):\n",
    "    \"\"\"\n",
    "    Competition metric calculation\n",
    "    \"\"\"\n",
    "    bfrb_gestures = [g for g in all_original_gestures if g in le_instance.classes_]\n",
    "    \n",
    "    # Binary F1: All are Target in this filtered dataset\n",
    "    y_true_binary = np.ones_like(y_true, dtype=int)\n",
    "    y_pred_binary = np.ones_like(y_pred, dtype=int)\n",
    "    binary_f1 = f1_score(y_true_binary, y_pred_binary, average='binary', pos_label=1, zero_division=0)\n",
    "    \n",
    "    # Macro F1: specific gesture classification\n",
    "    macro_f1 = f1_score(y_true, y_pred, average='macro', zero_division=0)\n",
    "    \n",
    "    final_score = (binary_f1 + macro_f1) / 2\n",
    "    return final_score, binary_f1, macro_f1"
   ]
  },
  {
   "cell_type": "code",
   "execution_count": 8,
   "id": "2a67f079",
   "metadata": {
    "execution": {
     "iopub.execute_input": "2025-06-07T23:01:32.716640Z",
     "iopub.status.busy": "2025-06-07T23:01:32.716430Z",
     "iopub.status.idle": "2025-06-07T23:22:28.691358Z",
     "shell.execute_reply": "2025-06-07T23:22:28.690256Z"
    },
    "papermill": {
     "duration": 1255.979066,
     "end_time": "2025-06-07T23:22:28.692815",
     "exception": false,
     "start_time": "2025-06-07T23:01:32.713749",
     "status": "completed"
    },
    "tags": []
   },
   "outputs": [
    {
     "name": "stdout",
     "output_type": "stream",
     "text": [
      "\n",
      "Training LightGBM models with cross-validation...\n",
      "\n",
      "Fold 1/5\n"
     ]
    },
    {
     "name": "stderr",
     "output_type": "stream",
     "text": [
      "1 warning generated.\n",
      "1 warning generated.\n",
      "1 warning generated.\n",
      "1 warning generated.\n",
      "1 warning generated.\n",
      "1 warning generated.\n",
      "1 warning generated.\n",
      "1 warning generated.\n",
      "1 warning generated.\n",
      "1 warning generated.\n",
      "1 warning generated.\n",
      "1 warning generated.\n",
      "1 warning generated.\n",
      "1 warning generated.\n",
      "1 warning generated.\n",
      "1 warning generated.\n",
      "1 warning generated.\n",
      "1 warning generated.\n",
      "1 warning generated.\n",
      "1 warning generated.\n",
      "1 warning generated.\n",
      "1 warning generated.\n",
      "1 warning generated.\n",
      "1 warning generated.\n",
      "1 warning generated.\n",
      "1 warning generated.\n",
      "1 warning generated.\n",
      "1 warning generated.\n",
      "1 warning generated.\n",
      "1 warning generated.\n",
      "1 warning generated.\n",
      "1 warning generated.\n",
      "1 warning generated.\n"
     ]
    },
    {
     "name": "stdout",
     "output_type": "stream",
     "text": [
      "Training until validation scores don't improve for 100 rounds\n",
      "Early stopping, best iteration is:\n",
      "[253]\tvalid_0's multi_logloss: 1.04424\n",
      "Fold 1 - Competition Score: 0.8104 (Binary F1: 1.0000, Macro F1: 0.6208)\n",
      "            Feature  Importance\n",
      "23        acc_z_min        1055\n",
      "14        acc_y_max         949\n",
      "7         acc_x_min         812\n",
      "13        acc_y_q75         743\n",
      "15        acc_y_min         684\n",
      "...             ...         ...\n",
      "1031  tof_2_v52_min           0\n",
      "1039  tof_2_v53_min           0\n",
      "1055  tof_2_v55_min           0\n",
      "655    tof_2_v5_min           0\n",
      "967   tof_2_v44_min           0\n",
      "\n",
      "[2663 rows x 2 columns]\n",
      "\n",
      "Fold 2/5\n",
      "Training until validation scores don't improve for 100 rounds\n",
      "Early stopping, best iteration is:\n",
      "[229]\tvalid_0's multi_logloss: 1.00521\n",
      "Fold 2 - Competition Score: 0.8109 (Binary F1: 1.0000, Macro F1: 0.6218)\n",
      "            Feature  Importance\n",
      "23        acc_z_min        1095\n",
      "14        acc_y_max         893\n",
      "7         acc_x_min         778\n",
      "13        acc_y_q75         683\n",
      "46        rot_y_max         630\n",
      "...             ...         ...\n",
      "2399  tof_5_v31_min           0\n",
      "2419  tof_5_v34_q25           0\n",
      "375   tof_1_v34_min           0\n",
      "959   tof_2_v43_min           0\n",
      "1175   tof_3_v6_min           0\n",
      "\n",
      "[2663 rows x 2 columns]\n",
      "\n",
      "Fold 3/5\n",
      "Training until validation scores don't improve for 100 rounds\n",
      "Early stopping, best iteration is:\n",
      "[202]\tvalid_0's multi_logloss: 1.04749\n",
      "Fold 3 - Competition Score: 0.8072 (Binary F1: 1.0000, Macro F1: 0.6144)\n",
      "            Feature  Importance\n",
      "23        acc_z_min         945\n",
      "14        acc_y_max         896\n",
      "7         acc_x_min         774\n",
      "13        acc_y_q75         628\n",
      "15        acc_y_min         568\n",
      "...             ...         ...\n",
      "503   tof_1_v50_min           0\n",
      "455   tof_1_v44_min           0\n",
      "463   tof_1_v45_min           0\n",
      "471   tof_1_v46_min           0\n",
      "2423  tof_5_v34_min           0\n",
      "\n",
      "[2663 rows x 2 columns]\n",
      "\n",
      "Fold 4/5\n",
      "Training until validation scores don't improve for 100 rounds\n",
      "Early stopping, best iteration is:\n",
      "[188]\tvalid_0's multi_logloss: 1.10377\n",
      "Fold 4 - Competition Score: 0.8012 (Binary F1: 1.0000, Macro F1: 0.6023)\n",
      "            Feature  Importance\n",
      "23        acc_z_min         948\n",
      "14        acc_y_max         876\n",
      "7         acc_x_min         679\n",
      "15        acc_y_min         563\n",
      "13        acc_y_q75         549\n",
      "...             ...         ...\n",
      "383   tof_1_v35_min           0\n",
      "2567  tof_5_v52_min           0\n",
      "1423  tof_3_v37_min           0\n",
      "1431  tof_3_v38_min           0\n",
      "2519  tof_5_v46_min           0\n",
      "\n",
      "[2663 rows x 2 columns]\n",
      "\n",
      "Fold 5/5\n",
      "Training until validation scores don't improve for 100 rounds\n",
      "Early stopping, best iteration is:\n",
      "[197]\tvalid_0's multi_logloss: 1.02269\n",
      "Fold 5 - Competition Score: 0.8072 (Binary F1: 1.0000, Macro F1: 0.6143)\n",
      "            Feature  Importance\n",
      "23        acc_z_min         938\n",
      "14        acc_y_max         837\n",
      "7         acc_x_min         749\n",
      "13        acc_y_q75         675\n",
      "46        rot_y_max         519\n",
      "...             ...         ...\n",
      "1119  tof_2_v63_min           0\n",
      "455   tof_1_v44_min           0\n",
      "575   tof_1_v59_min           0\n",
      "487   tof_1_v48_min           0\n",
      "1127   tof_3_v0_min           0\n",
      "\n",
      "[2663 rows x 2 columns]\n",
      "\n",
      "Cross-validation results:\n",
      "Mean CV Score: 0.8074 (+/- 0.0069)\n",
      "Individual fold scores: [0.8103818740877368, 0.8109045041883223, 0.8071753299174163, 0.801171064483243, 0.8071592542682257]\n",
      "\n",
      "Training final model on all training data...\n"
     ]
    }
   ],
   "source": [
    "cv = StratifiedKFold(n_splits=5, shuffle=True, random_state=42)\n",
    "cv_scores = []\n",
    "models = []\n",
    "\n",
    "all_original_gestures_in_train = pdf['gesture'].unique()\n",
    "\n",
    "callbacks = [lgb.early_stopping(stopping_rounds=100, verbose=100)]\n",
    "\n",
    "# LightGBM model with cross-validation\n",
    "print(\"\\nTraining LightGBM models with cross-validation...\")\n",
    "for fold, (train_idx, val_idx) in enumerate(cv.split(X, y)):\n",
    "    print(f\"\\nFold {fold + 1}/5\")\n",
    "    \n",
    "    X_train_fold, X_val_fold = X.iloc[train_idx], X.iloc[val_idx]\n",
    "    y_train_fold, y_val_fold = y[train_idx], y[val_idx]\n",
    "    \n",
    "    # LightGBM model with GPU acceleration\n",
    "    model = lgb.LGBMClassifier(\n",
    "        objective='multiclass',\n",
    "        n_estimators= 1000,\n",
    "        learning_rate= 0.08,\n",
    "        max_depth= 15,\n",
    "        reg_alpha= 0.8,\n",
    "        lambda_l2= 4.0,  \n",
    "        num_leaves=31, \n",
    "        min_child_samples= 32,\n",
    "        colsample_bytree= 0.85,\n",
    "        subsample= 0.5,\n",
    "        subsample_freq=0,\n",
    "        cat_smooth=20.0,\n",
    "        is_unbalance=True,\n",
    "        max_bin=127,\n",
    "        verbose=-1,  \n",
    "        metric='multi_logloss',   \n",
    "        device='gpu',  \n",
    "    )\n",
    "    \n",
    "    # Train model with verbose output\n",
    "    model.fit(\n",
    "        X_train_fold, y_train_fold,\n",
    "        eval_set=[(X_val_fold, y_val_fold)],  \n",
    "        eval_metric='multi_logloss',  \n",
    "        callbacks=callbacks\n",
    "    )\n",
    "    \n",
    "    # Predict\n",
    "    y_pred_fold = model.predict(X_val_fold)\n",
    "    \n",
    "    # Calculate score\n",
    "    score, binary_f1, macro_f1 = competition_metric(\n",
    "        y_val_fold, y_pred_fold, le, all_original_gestures_in_train\n",
    "    )\n",
    "    \n",
    "    cv_scores.append(score)\n",
    "    models.append(model)\n",
    "    joblib.dump(model, f'model_lgb{fold}.joblib')\n",
    "    \n",
    "    print(f\"Fold {fold + 1} - Competition Score: {score:.4f} (Binary F1: {binary_f1:.4f}, Macro F1: {macro_f1:.4f})\")\n",
    "\n",
    "    # feature importances\n",
    "    feature_importances = model.feature_importances_    \n",
    "    feature_names = X.columns    \n",
    "    feature_importance_df = pd.DataFrame({\n",
    "        'Feature': feature_names,\n",
    "        'Importance': feature_importances\n",
    "    })    \n",
    "    feature_importance_df = feature_importance_df.sort_values(by='Importance', ascending=False)    \n",
    "    print(feature_importance_df)\n",
    "\n",
    "print(f\"\\nCross-validation results:\")\n",
    "print(f\"Mean CV Score: {np.mean(cv_scores):.4f} (+/- {np.std(cv_scores) * 2:.4f})\")\n",
    "print(f\"Individual fold scores: {cv_scores}\")\n",
    "\n",
    "# Train final model on all data with GPU acceleration\n",
    "print(\"\\nTraining final model on all training data...\")"
   ]
  }
 ],
 "metadata": {
  "kaggle": {
   "accelerator": "gpu",
   "dataSources": [
    {
     "databundleVersionId": 12518947,
     "sourceId": 102335,
     "sourceType": "competition"
    }
   ],
   "dockerImageVersionId": 31041,
   "isGpuEnabled": true,
   "isInternetEnabled": false,
   "language": "python",
   "sourceType": "notebook"
  },
  "kernelspec": {
   "display_name": "Python 3",
   "language": "python",
   "name": "python3"
  },
  "language_info": {
   "codemirror_mode": {
    "name": "ipython",
    "version": 3
   },
   "file_extension": ".py",
   "mimetype": "text/x-python",
   "name": "python",
   "nbconvert_exporter": "python",
   "pygments_lexer": "ipython3",
   "version": "3.11.11"
  },
  "papermill": {
   "default_parameters": {},
   "duration": 1287.970763,
   "end_time": "2025-06-07T23:22:30.964393",
   "environment_variables": {},
   "exception": null,
   "input_path": "__notebook__.ipynb",
   "output_path": "__notebook__.ipynb",
   "parameters": {},
   "start_time": "2025-06-07T23:01:02.993630",
   "version": "2.6.0"
  }
 },
 "nbformat": 4,
 "nbformat_minor": 5
}
